{
 "cells": [
  {
   "cell_type": "markdown",
   "metadata": {},
   "source": [
    "# Multi-Armed Bandit Game\n",
    "## Andrew Yeh"
   ]
  },
  {
   "cell_type": "code",
   "execution_count": 1,
   "metadata": {},
   "outputs": [],
   "source": [
    "import numpy as np\n",
    "import time\n",
    "import pandas as pd\n",
    "from matplotlib import pyplot as plt\n",
    "from IPython.display import clear_output\n",
    "from IPython.core.debugger import set_trace"
   ]
  },
  {
   "cell_type": "code",
   "execution_count": 93,
   "metadata": {},
   "outputs": [],
   "source": [
    "def print_houses():\n",
    "    # Prints out current state of houses and (sample) average reward\n",
    "    for i in range(len(houses)):\n",
    "        if(houses[i][1] == 1):\n",
    "            print(\"House \",i,\": \",np.round(houses[i][0],2))\n",
    "    \n",
    "def choose_house(i):\n",
    "    # Chooses house i and adds to total rewards. \n",
    "    # Marks house as revealed\n",
    "    # Prints out house award and total award\n",
    "    houses[i][1] = 1\n",
    "    reward = houses[i][0]\n",
    "    return(reward)\n",
    "    \n",
    "    \n",
    "def generate_houses_normal(mean = 0, std = 10, n = 1000):\n",
    "    means = np.random.normal(mean, std, n)\n",
    "    houses = [[i,0] for i in means]\n",
    "    \n",
    "    return(houses)"
   ]
  },
  {
   "cell_type": "markdown",
   "metadata": {},
   "source": [
    "Factors of interest:\n",
    "* How different are the rewards?\n",
    "\n",
    "If they aren't that different, you don't need to try that much. If they are very different, you need to try more.\n",
    "\n",
    "* How many houses are there?\n",
    "\n",
    "There is a trying phase and an exploitation phase. At first glance, I think we want to find the point such that 1 more house tried as a percent of total houses is just less than 1 more try as a percent of tries, i.e. a given try decreases our \"exploitation time\" as a percent more than it increases our chance of finding the true maximum.\n",
    "\n",
    "* Is the reward for a given house fixed or a random variable?\n",
    "\n",
    "If it's a random variable, do we know the distribution? I'm just going to make it normally distributed for this game."
   ]
  },
  {
   "cell_type": "code",
   "execution_count": 101,
   "metadata": {},
   "outputs": [],
   "source": [
    "def play_game(tries, strategy = \"manual\", threshold = 0.5):\n",
    "    # Print information about game:\n",
    "    \n",
    "    \n",
    "    # Play game and print status reports:\n",
    "    rewards = np.zeros(tries)\n",
    "    for turn in range(tries):\n",
    "        \n",
    "        revealed_houses = [i[0]*i[1] for i in houses]\n",
    "        \n",
    "        if strategy == \"manual\":\n",
    "            choice = input()\n",
    "            # Clear output every try:\n",
    "            clear_output()\n",
    "\n",
    "            print(\"Try Number:\", turn+1)\n",
    "            print(\"Your choice:\", choice)\n",
    "            print(\"Total reward:\",np.round(total_rewards[turn], 2),\"\\n\")\n",
    "            print_houses()\n",
    "        else:\n",
    "            choice = strategy(revealed_houses, turn, tries, threshold = threshold)\n",
    "        \n",
    "        if choice == \"max\":\n",
    "            choice = revealed_houses.index(max(revealed_houses))\n",
    "        if choice == \"explore\":\n",
    "            unexplored = np.where(np.array(revealed_houses) == 0)[0]\n",
    "            choice = np.random.choice(unexplored)\n",
    "        \n",
    "        rewards[turn] = choose_house(choice)        \n",
    "    \n",
    "    # Out of loop\n",
    "    total_rewards = np.cumsum(rewards)\n",
    "    \n",
    "    # print(\"\\n Game finished!\")\n",
    "    return(total_rewards)\n",
    "    "
   ]
  },
  {
   "cell_type": "code",
   "execution_count": 174,
   "metadata": {},
   "outputs": [],
   "source": [
    "def plot_strategy_run(total_rewards, label):\n",
    "    plt.plot(range(len(total_rewards)), total_rewards, label = label)\n",
    "    plt.xlabel(\"Tries\")\n",
    "    plt.ylabel(\"Reward\")"
   ]
  },
  {
   "cell_type": "code",
   "execution_count": 193,
   "metadata": {},
   "outputs": [],
   "source": [
    "def plot_strategy_runs(strategy_runs, thresholds):\n",
    "    for i in range(len(learn_p_strategy)):\n",
    "        plot_strategy_run(learn_p_strategy[i], label = thresholds[i])\n",
    "\n",
    "    plt.legend(loc = \"upper left\")"
   ]
  },
  {
   "cell_type": "code",
   "execution_count": 200,
   "metadata": {},
   "outputs": [],
   "source": [
    "def plot_strategy_results(strategy_runs, thresholds, label):\n",
    "    results = [i[-1] for i in strategy_runs]\n",
    "    \n",
    "    plt.plot(thresholds, results, label = label)\n",
    "    plt.xlabel(\"Threshold\")\n",
    "    plt.ylabel(\"Reward\")\n",
    "    plt.legend(loc = \"upper right\")"
   ]
  },
  {
   "cell_type": "code",
   "execution_count": 213,
   "metadata": {},
   "outputs": [],
   "source": [
    "def find_average_run(strategy, threshold, n = 100):\n",
    "    all_runs = [play_game(100, strategy = strategy, threshold = threshold) for i in range(n)]\n",
    "    average_run = np.mean(all_runs, axis = 0)\n",
    "    \n",
    "    return(average_run)"
   ]
  },
  {
   "cell_type": "markdown",
   "metadata": {},
   "source": [
    "Todo: \n",
    "1. Make line graph of average result over different thresholds for same strategy. Different colored lines signify different strategies."
   ]
  },
  {
   "cell_type": "code",
   "execution_count": 203,
   "metadata": {},
   "outputs": [],
   "source": [
    "def learn_p_then_exploit(revealed_houses, try_number, total_tries, threshold = 0.5):\n",
    "    # set_trace()\n",
    "    if 0 not in revealed_houses:\n",
    "        return(\"max\")\n",
    "    \n",
    "    if try_number/total_tries < threshold:\n",
    "        return(\"explore\")\n",
    "    \n",
    "    return(\"max\")"
   ]
  },
  {
   "cell_type": "code",
   "execution_count": 204,
   "metadata": {},
   "outputs": [],
   "source": [
    "def randomly_explore_p(revealed_houses, try_number, total_tries, threshold = 0.1):\n",
    "    # set_trace()\n",
    "    if 0 not in revealed_houses:\n",
    "        return(\"max\")\n",
    "    \n",
    "    if np.random.uniform(0, 1) < threshold:\n",
    "        return(\"explore\")\n",
    "    \n",
    "    return(\"max\")"
   ]
  },
  {
   "cell_type": "code",
   "execution_count": 214,
   "metadata": {},
   "outputs": [],
   "source": [
    "houses = generate_houses_normal(100,40,1000)\n",
    "thresholds = [i/10 for i in range(10)]\n",
    "\n",
    "learn_p_strategy = [find_average_run(strategy = learn_p_then_exploit, threshold = i) for i in thresholds]"
   ]
  },
  {
   "cell_type": "code",
   "execution_count": 219,
   "metadata": {},
   "outputs": [
    {
     "data": {
      "text/plain": [
       "[0.0, 0.1, 0.2, 0.3, 0.4, 0.5, 0.6, 0.7, 0.8, 0.9]"
      ]
     },
     "execution_count": 219,
     "metadata": {},
     "output_type": "execute_result"
    }
   ],
   "source": [
    "thresholds"
   ]
  },
  {
   "cell_type": "code",
   "execution_count": 215,
   "metadata": {},
   "outputs": [
    {
     "data": {
      "image/png": "[encoded data removed]",
      "text/plain": [
       "<Figure size 432x288 with 1 Axes>"
      ]
     },
     "metadata": {
      "needs_background": "light"
     },
     "output_type": "display_data"
    }
   ],
   "source": [
    "plot_strategy_runs(learn_p_strategy, thresholds = thresholds)"
   ]
  },
  {
   "cell_type": "code",
   "execution_count": 216,
   "metadata": {},
   "outputs": [
    {
     "data": {
      "image/png": "[encoded data removed]",
      "text/plain": [
       "<Figure size 432x288 with 1 Axes>"
      ]
     },
     "metadata": {
      "needs_background": "light"
     },
     "output_type": "display_data"
    }
   ],
   "source": [
    "plot_strategy_results(learn_p_strategy, thresholds = thresholds, label = \"Learn Threshold then Exploit\")"
   ]
  },
  {
   "cell_type": "markdown",
   "metadata": {},
   "source": [
    "Mathematically, here is one way to think about the optimal solution to the problem:\n",
    "\\begin{align*}\n",
    "i&: \\text{Index for current try}\\\\\n",
    "t&: \\text{Total number of tries}\\\\\n",
    "D_i&: \\text{Reward for door on try i}\\\\\n",
    "D_{max}&: \\text{Maximum reward among explored doors}\\\\\n",
    "\\mu&: \\text{sample mean}\\\\\n",
    "\\sigma&: \\text{sample standard deviation}\\\\\n",
    "\\end{align*}\n",
    "We're interested in:\n",
    "\\begin{align*}\n",
    "\\text{Expected gain from exploration} &= E(D_i - D_{max}|D_i > D_{max})\\times P(D_i > D_{max})\\times (t-i)\\\\\n",
    "\\text{Expected loss from exploration} &= (D_{max} - E(D_i))\\times P(D_i < D_{max})\\\\\n",
    "&= (D_{max} - \\mu)\\times (1 - P(D_i > D_{max}))\\\\\n",
    "\\end{align*}\n",
    "If the expected gain from exploration is larger than the expected loss from exploration, then we should proceed. If not, we exploit.\n",
    "\n",
    "We can either assume a distribution (uniform/normal) or use a kernel smoother to empirically estimate a pdf $f_D$ of the distribution of door rewards. This will give us an estimate for:\n",
    "\\begin{align*}\n",
    "P(D_i > D_{max}) = \\int_{D_{max}}^{\\infty}f_D(x)dx\n",
    "\\end{align*}\n",
    "To calculate $E(D_i - D_{max}|D_i > D_{max})$:\n",
    "\\begin{align*}\n",
    "E(D_i - D_{max}|D_i > D_{max}) &= \\int_{D_{max}}^{\\infty}(x - D_{max})f_{D}(x)dx\n",
    "\\end{align*}\n",
    "\n",
    "The main problem with this is that Bayesian methods to estimate the density function will likely not capture the max."
   ]
  }
 ],
 "metadata": {
  "anaconda-cloud": {},
  "kernelspec": {
   "display_name": "Python 3",
   "language": "python",
   "name": "python3"
  }
 },
 "nbformat": 4,
 "nbformat_minor": 1
}
