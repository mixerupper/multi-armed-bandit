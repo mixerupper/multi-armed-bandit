{
 "cells": [
  {
   "cell_type": "markdown",
   "metadata": {},
   "source": [
    "# Multi-Armed Bandit Game\n",
    "## Andrew Yeh"
   ]
  },
  {
   "cell_type": "code",
   "execution_count": 69,
   "metadata": {},
   "outputs": [],
   "source": [
    "import numpy as np\n",
    "import time\n",
    "import pandas as pd\n",
    "import matplotlib as plt\n",
    "from IPython.display import clear_output"
   ]
  },
  {
   "cell_type": "code",
   "execution_count": 41,
   "metadata": {},
   "outputs": [],
   "source": [
    "def print_houses():\n",
    "    # Prints out current state of houses and (sample) average reward\n",
    "    for i in range(len(houses)):\n",
    "        if(houses[i-1][1] == 1):\n",
    "            print(\"House \",i,\": \",np.round(houses[i-1][0],2))\n",
    "    \n",
    "def choose_house(i):\n",
    "    # Chooses house i and adds to total rewards. \n",
    "    # Marks house as revealed\n",
    "    # Prints out house award and total award\n",
    "    houses[i-1][1] = 1\n",
    "    reward = houses[i-1][0]\n",
    "    print_houses()\n",
    "    return(reward)\n",
    "    \n",
    "    \n",
    "def generate_houses_normal(mean = 0, std = 10, n = 1000):\n",
    "    means = np.random.normal(mean, std, n)\n",
    "    houses = [[i,0] for i in means]\n",
    "    \n",
    "    return(houses)"
   ]
  },
  {
   "cell_type": "markdown",
   "metadata": {},
   "source": [
    "Factors of interest:\n",
    "* How different are the rewards?\n",
    "\n",
    "If they aren't that different, you don't need to try that much. If they are very different, you need to try more.\n",
    "\n",
    "* How many houses are there?\n",
    "\n",
    "There is a trying phase and an exploitation phase. At first glance, I think we want to find the point such that 1 more house tried as a percent of total houses is just less than 1 more try as a percent of tries, i.e. a given try decreases our \"exploitation time\" as a percent more than it increases our chance of finding the true maximum.\n",
    "\n",
    "* Is the reward for a given house fixed or a random variable?\n",
    "\n",
    "If it's a random variable, do we know the distribution? I'm just going to make it normally distributed for this game."
   ]
  },
  {
   "cell_type": "code",
   "execution_count": 113,
   "metadata": {},
   "outputs": [],
   "source": [
    "def play_game(tries):\n",
    "    # Print information about game:\n",
    "    \n",
    "    \n",
    "    # Play game and print status reports:\n",
    "    total_rewards = np.zeros(tries)\n",
    "    for a in range(tries):\n",
    "        \n",
    "        choice = input()\n",
    "        \n",
    "        if(choice == \"highest\"):\n",
    "                    \n",
    "        \n",
    "        choice = int(choice)\n",
    "        \n",
    "        # Clear output every three tries:\n",
    "        if a%3 == 0 and a != 0:\n",
    "            clear_output()\n",
    "        \n",
    "        print(\"Your choice:\", choice)\n",
    "               \n",
    "        if a == 0:\n",
    "            total_rewards[a] = choose_house(choice)\n",
    "        else:\n",
    "            total_rewards[a] = total_rewards[a-1] + choose_house(choice)\n",
    "        print(\"Total reward:\",np.round(total_rewards[a], 2),\"\\n\")\n",
    "        \n",
    "        revealed_houses = pd.Series([i for i in range(len(houses)) if houses[i][1] == 1])\n",
    "        \n",
    "        # Print histogram every ten tries:\n",
    "        if a%10 == 0 and a!= 0:            \n",
    "            houses_bar = pd.Series([i[0]*i[1] for i in houses])\n",
    "            plt.pyplot.bar(range(len(houses_bar)), houses_bar)\n",
    "\n",
    "    plt.pyplot.plot(range(len(total_rewards)), total_rewards)\n",
    "    plt.pyplot.xlabel(\"Tries\")\n",
    "    plt.pyplot.ylabel(\"Reward\")\n",
    "    \n",
    "    print(\"\\n Game finished!\")\n",
    "    return()\n",
    "    "
   ]
  },
  {
   "cell_type": "code",
   "execution_count": 119,
   "metadata": {},
   "outputs": [
    {
     "name": "stdout",
     "output_type": "stream",
     "text": [
      "Your choice: 10\n",
      "House  1 :  63.32\n",
      "House  2 :  85.92\n",
      "House  3 :  112.83\n",
      "House  4 :  103.95\n",
      "House  5 :  103.02\n",
      "House  6 :  157.25\n",
      "House  7 :  59.98\n",
      "House  8 :  124.94\n",
      "House  9 :  171.17\n",
      "House  10 :  131.47\n",
      "Total reward: 1113.85 \n",
      "\n",
      "\n",
      " Game finished!\n"
     ]
    },
    {
     "data": {
      "text/plain": [
       "()"
      ]
     },
     "execution_count": 119,
     "metadata": {},
     "output_type": "execute_result"
    },
    {
     "data": {
      "image/png": "[encoded data removed]",
      "text/plain": [
       "<Figure size 432x288 with 1 Axes>"
      ]
     },
     "metadata": {
      "needs_background": "light"
     },
     "output_type": "display_data"
    }
   ],
   "source": [
    "houses = generate_houses_normal_same_distribution(100,40,1000)\n",
    "play_game(10)"
   ]
  },
  {
   "cell_type": "code",
   "execution_count": 118,
   "metadata": {},
   "outputs": [
    {
     "data": {
      "text/plain": [
       "0      0\n",
       "1      1\n",
       "2      2\n",
       "3      3\n",
       "4      4\n",
       "5     99\n",
       "6    199\n",
       "7    299\n",
       "8    399\n",
       "9    499\n",
       "dtype: int64"
      ]
     },
     "execution_count": 118,
     "metadata": {},
     "output_type": "execute_result"
    }
   ],
   "source": [
    "pd.Series([i for i in range(len(houses)) if houses[i][1] == 1])"
   ]
  },
  {
   "cell_type": "code",
   "execution_count": 117,
   "metadata": {},
   "outputs": [
    {
     "name": "stdout",
     "output_type": "stream",
     "text": [
      "Your choice: 400\n",
      "House  1 :  115.21\n",
      "House  2 :  110.88\n",
      "House  3 :  82.23\n",
      "House  4 :  40.25\n",
      "House  5 :  77.41\n",
      "House  100 :  78.73\n",
      "House  200 :  70.99\n",
      "House  300 :  149.58\n",
      "House  400 :  128.46\n",
      "Total reward: 427.76 \n",
      "\n",
      "500\n",
      "Your choice: 500\n",
      "House  1 :  115.21\n",
      "House  2 :  110.88\n",
      "House  3 :  82.23\n",
      "House  4 :  40.25\n",
      "House  5 :  77.41\n",
      "House  100 :  78.73\n",
      "House  200 :  70.99\n",
      "House  300 :  149.58\n",
      "House  400 :  128.46\n",
      "House  500 :  61.47\n",
      "Total reward: 489.23 \n",
      "\n",
      "\n",
      " Game finished!\n"
     ]
    },
    {
     "data": {
      "text/plain": [
       "()"
      ]
     },
     "execution_count": 117,
     "metadata": {},
     "output_type": "execute_result"
    },
    {
     "data": {
      "image/png": "[encoded data removed]",
      "text/plain": [
       "<Figure size 432x288 with 1 Axes>"
      ]
     },
     "metadata": {
      "needs_background": "light"
     },
     "output_type": "display_data"
    }
   ],
   "source": [
    "play_game(5)"
   ]
  },
  {
   "cell_type": "code",
   "execution_count": 100,
   "metadata": {},
   "outputs": [],
   "source": [
    "total_rewards = [i*100 for i in range(5)]"
   ]
  },
  {
   "cell_type": "code",
   "execution_count": 103,
   "metadata": {},
   "outputs": [
    {
     "data": {
      "text/plain": [
       "[<matplotlib.lines.Line2D at 0x1d6f11c5a20>]"
      ]
     },
     "execution_count": 103,
     "metadata": {},
     "output_type": "execute_result"
    },
    {
     "data": {
      "image/png": "[encoded data removed]",
      "text/plain": [
       "<Figure size 432x288 with 1 Axes>"
      ]
     },
     "metadata": {
      "needs_background": "light"
     },
     "output_type": "display_data"
    }
   ],
   "source": [
    "plt.pyplot.plot(range(5), total_rewards)"
   ]
  },
  {
   "cell_type": "markdown",
   "metadata": {},
   "source": [
    "Todo: Build out graph showing reward trajectory\n",
    "\n",
    "Todo: Wait a second after game finished so don't accidentally press something.\n",
    "\n",
    "Todo: Build out some sample strategies"
   ]
  }
 ],
 "metadata": {
  "anaconda-cloud": {},
  "kernelspec": {
   "display_name": "Python 3",
   "language": "python",
   "name": "python3"
  },
  "language_info": {
   "codemirror_mode": {
    "name": "ipython",
    "version": 3
   },
   "file_extension": ".py",
   "mimetype": "text/x-python",
   "name": "python",
   "nbconvert_exporter": "python",
   "pygments_lexer": "ipython3",
   "version": "3.7.3"
  }
 },
 "nbformat": 4,
 "nbformat_minor": 1
}
